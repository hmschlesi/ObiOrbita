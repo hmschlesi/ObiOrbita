{
 "cells": [
  {
   "attachments": {},
   "cell_type": "markdown",
   "metadata": {},
   "source": [
    "# OpenSourceHardware@Playtronica\n",
    "\n",
    "Welcome! Here you can find lots of Info and materials to start building your own instruments with sensors and Interfaces designed by Playtronica. You can get the electronics parts [here](https://shop.playtronica.com/), all other needed Materials can be sourced locally or from your preferred vendor.\n",
    "\n",
    "## OpenSource Statement\n",
    "This project was done as a cooperation of Playtroinca and the Fachgebiet Qualitätswissenschaften at TU Berlin. \n",
    "\n",
    "\n",
    "\n"
   ]
  },
  {
   "cell_type": "markdown",
   "metadata": {},
   "source": []
  }
 ],
 "metadata": {
  "kernelspec": {
   "display_name": "Python 3",
   "language": "python",
   "name": "python3"
  },
  "language_info": {
   "codemirror_mode": {
    "name": "ipython",
    "version": 3
   },
   "file_extension": ".py",
   "mimetype": "text/x-python",
   "name": "python",
   "nbconvert_exporter": "python",
   "pygments_lexer": "ipython3",
   "version": "3.9.13"
  },
  "vscode": {
   "interpreter": {
    "hash": "b7123bc9d5bf4081fb816108306e99e391948399f439eb667db7bc2d8c5ff993"
   }
  },
  "widgets": {
   "application/vnd.jupyter.widget-state+json": {
    "state": {},
    "version_major": 2,
    "version_minor": 0
   }
  }
 },
 "nbformat": 4,
 "nbformat_minor": 4
}
