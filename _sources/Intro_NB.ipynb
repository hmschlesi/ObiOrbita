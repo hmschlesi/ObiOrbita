{
 "cells": [
  {
   "attachments": {},
   "cell_type": "markdown",
   "metadata": {},
   "source": [
    "# Open Source Hardware Seminar (OSHS) 2023, TU Berlin \n",
    "# Final report: Project Playtronica\n",
    "\n",
    "## Executive Summary\n", 
    "Welcome! In this Notebook you can find the technical report of our project of the Open Source Hardware implementation of the *Orbita* by Playtronica.\n",
    "\n",
    "This report will guide you through the challenges we faced in making the Orbita more accessible to a broader audience and our chosen strategy for overcoming these. The realization of this Open Source Hardware project can be found in the subsequent pages.\n",
    "\n",
    "Also, you can find lot of information and the required materials to start building your own instrument with sensors and interfaces designed by Playtronica. You can get the electronics parts [here](https://shop.playtronica.com/), all other needed materials can be sourced locally or from your preferred vendor.\n",
    "\n",
    "## OpenSource Statement\n",
    "This project was done as a cooperation of Playtronica and the institute of Quality Science at TU Berlin.\n",
    "\n",
    "Submission date: 31.07.2023\n",
     "\n",
    "## Authors\n",
    "\n",
    "Nasuh Ege Acikgöz\n",
    "\n",
    "Pongpanoch Chongpatiyutt\n",
    "\n",
    "Kim-Sarah Nowak\n",
    "\n",
    "Hans-Martin Schlesier\n",
    "\n",
    "## Keywords\n",
    "Open source hardware, open design, company-community collaboration, midi sequencer, instrument, DIY project, playtronica, orbita, obiorbita\n",
    "\n",
    "\n"
   ]
  },
  {
   "cell_type": "markdown",
   "metadata": {},
   "source": []
  }
 ],
 "metadata": {
  "kernelspec": {
   "display_name": "Python 3",
   "language": "python",
   "name": "python3"
  },
  "language_info": {
   "codemirror_mode": {
    "name": "ipython",
    "version": 3
   },
   "file_extension": ".py",
   "mimetype": "text/x-python",
   "name": "python",
   "nbconvert_exporter": "python",
   "pygments_lexer": "ipython3",
   "version": "3.9.13"
  },
  "vscode": {
   "interpreter": {
    "hash": "b7123bc9d5bf4081fb816108306e99e391948399f439eb667db7bc2d8c5ff993"
   }
  },
  "widgets": {
   "application/vnd.jupyter.widget-state+json": {
    "state": {},
    "version_major": 2,
    "version_minor": 0
   }
  }
 },
 "nbformat": 4,
 "nbformat_minor": 4
}
