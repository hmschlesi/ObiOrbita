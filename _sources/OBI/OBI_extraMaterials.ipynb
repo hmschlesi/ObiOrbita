{
 "cells": [
  {
   "attachments": {},
   "cell_type": "markdown",
   "metadata": {},
   "source": [
    "# extra Materials for the OBI Orbita\n",
    "![](gfx/09_OBI_explo.2JPG.JPG)\n",
    "\n",
    "Alongside with the build manual there is also an exxtensive range of extra materials, like CAD parts and assemblies ([here](https://github.com/hmschlesi/ObiOrbita/tree/main/CAD)), explosion drawings of the aseembly ([here](https://github.com/hmschlesi/ObiOrbita/blob/main/CAD/Exports/Obi_asembly.pdf)) and the Bill of Material ([here](https://github.com/hmschlesi/ObiOrbita/blob/main/Hardware/BOM_OBIOrbitarct.xlsx)).\n",
    "\n",
    "If you want to make changes you can also find a universal .obj file with all geometries [here](https://github.com/hmschlesi/ObiOrbita/blob/main/CAD/Exports/OBI_orbitar.obj). "
   ]
  }
 ],
 "metadata": {
  "kernelspec": {
   "display_name": "Python 3",
   "language": "python",
   "name": "python3"
  },
  "language_info": {
   "name": "python",
   "version": "3.9.13"
  },
  "orig_nbformat": 4,
  "vscode": {
   "interpreter": {
    "hash": "b7123bc9d5bf4081fb816108306e99e391948399f439eb667db7bc2d8c5ff993"
   }
  }
 },
 "nbformat": 4,
 "nbformat_minor": 2
}
