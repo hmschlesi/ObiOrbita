{
 "cells": [
  {
   "attachments": {},
   "cell_type": "markdown",
   "metadata": {},
   "source": [
    "# OBI Orbita\n",
    "\n",
    "Obi Orbita is a circular MIDI Sequenzer that brings can turn color and movement into rythmens. It is based on the original [Orbita](https://orbita.playtronica.com/) by Playtronica and uses the same electronic componets and color buttons.\n",
    "\n",
    "The Idea to extend the Orbita by an OpenSource Verison is trying to extend the impact of the product and also offering a low-cost and low-tech alternative. The OBI orbita should be easy to rebuild with common handtools and an afternoon of time. You can find the bill of materials for this project [here](https://github.com/hmschlesi/ObiOrbita/blob/main/Hardware/BOM_OBIOrbitarct.xlsx) together with some options where you could source the parts.\n",
    "\n",
    "See the sections below to get started.\n",
    "\n",
    "```{tableofcontents}\n",
    "```"
   ]
  }
 ],
 "metadata": {
  "kernelspec": {
   "display_name": "Python 3",
   "language": "python",
   "name": "python3"
  },
  "language_info": {
   "name": "python",
   "version": "3.9.13"
  },
  "orig_nbformat": 4,
  "vscode": {
   "interpreter": {
    "hash": "b7123bc9d5bf4081fb816108306e99e391948399f439eb667db7bc2d8c5ff993"
   }
  }
 },
 "nbformat": 4,
 "nbformat_minor": 2
}
