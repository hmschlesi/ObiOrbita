{
 "cells": [
  {
   "attachments": {},
   "cell_type": "markdown",
   "metadata": {},
   "source": [
    "# ObiOrbita Construction Manual\n",
    "\n",
    "[<img src=\"gfx/02_orbita_pers.jpg\" width=\"500\"/>](gfx/02_orbita_pers.jpg)\n",
    "\n",
    "This manual will guide you through the process of building and assembling your own OBI Orbita. We recommend to wait untill you have all parts so the assembly can go fast and without interruption.\n",
    "\n",
    "\n",
    "| name                                              | amount |\n",
    "| ------------------------------------------------- | ------ |\n",
    "| IKEA Snudda                                       | 1      |\n",
    "| Naturkork Platten, geschliffen 3,0 x 202 x 456 mm | 2      |\n",
    "| Stahlringe verzinkt, silber ø 100 x 2-3 mm        | 1      |\n",
    "| Stahlringe verzinkt, silber ø 200 x 3-4 mm        | 1      |\n",
    "| Stahlringe verzinkt, silber ø 300 x 3-4 mm        | 1      |\n",
    "| 12 mm Multiplex Birke 450mm x 450mm               | 1      |\n",
    "| 12 mm Multiplex Birke 500mm x 50mm                | 2     |\n",
    "| DIN 7991 M6 x 25 8.8                              | 4      |\n",
    "| Distanzmuffe M6 40 mm                             | 2      |\n",
    "| DIN 1473 6 x 40 St                                | 1      |\n",
    "| 12 V Dc Getriebemotor                             | 1      |\n",
    "| Schrauben und Co                                  | 1      |\n",
    "| Double sided tape                                 | 1      |\n",
    "| Hotglue                                           | 1      |\n",
    "| Orbita electronics by Playtronica                 | 1      |\n",
    "\n",
    "Bill of Material for an OBI Orbita <!--- maybe link to Excell? --->\n",
    "\n",
    "## Preparations and setup\n",
    "You need some space to work on the parts and ideally a worksurface that can get used a bit. After all we are working with wood drills, hotglue and boxcutters.\n",
    "The whole build only needs some very basic handtools, but make sure you have all of them at hand, to avoid running into issues during the build process. You will need a battery drill, a drill bit set, a 15 mm Faustner drill or similar, Allenkeys, a box cutter, a wrench with a 13mm nut, a Hotgluegun and some measuring and marking utensils.\n",
    "\n",
    "![<img src=\"gfx/04_orbita_tools.JPG\" width=\"500\"/>](gfx/04_orbita_tools.JPG)\n",
    "\n",
    "Needed tools for the build\n",
    "\n",
    "## Makeing the base and the bridge\n",
    "The only two parts that that completly need to be build custom for this project are the base and the bridge that carries the sensors above the turntable. These parts are made out of 12mm plywood or similar. \n",
    "Thes stock amterial could also be some reused wood or some different available board material, as long as the deflection is similar and the dimensions can be cut fairly accurate. We sourced our wood boards from the local hardware store, where they offer a cutting service too.\n",
    "\n",
    "You can measure and mark the hole locations for each part by the dimensions given in the two drawings below. Another option is provided through drill templates you can print out and put on your work pieces\n",
    "![<img src=\"gfx/05_bride_dims.JPG\" width=\"500\"/>](gfx/05_bride_dims.JPG)\n",
    "\n",
    "Once you marked all the locations you can drill the holes with a fitting drill. The only out of the ordinary holes that need to be made are the 15 mm holes for the sensors. A Faustner drill bit makes this very easy but if you don't have one on hand you can also drill many smaller holes on the circumference and knock the inside of the holes out. This works but the hole looks pretty rough after this process, so we highly recommend you use the proper drill. On the brige and on the base board you can countersink the two 7 mm holes so the screws that will go through these holes sit flush with the board surfaces.\n",
    "\n",
    "![<img src=\"gfx/06_board_dims.JPG\" width=\"500\"/>](gfx/06_board_dims.JPG)\n",
    "\n",
    "Once the wooden pieces are all drilles they are ready for the assembly.\n",
    "\n",
    "\n",
    "## Creating the turntable\n",
    "The main part of the turntable is made of a ready made part which can be found in most kitchen ware stores. For our version we used the Ikea version of the spinning Susan but you can make it work with other models too.\n",
    "\n",
    "### Disassemble the snudda\n",
    "\n",
    "### Centerfinding\n",
    "\n",
    "### Preparing the tabletop\n",
    "\n",
    "### Install the driveshaft\n",
    "\n",
    "## Building the sensor bridge\n",
    "\n",
    "## Assembly of base, turntable and sensorbridge\n",
    "\n",
    "## Connecting the motor\n",
    "\n",
    "## Connecting the sensors and the mainboard\n",
    "\n"
   ]
  }
 ],
 "metadata": {
  "kernelspec": {
   "display_name": "Python 3",
   "language": "python",
   "name": "python3"
  },
  "language_info": {
   "codemirror_mode": {
    "name": "ipython",
    "version": 3
   },
   "file_extension": ".py",
   "mimetype": "text/x-python",
   "name": "python",
   "nbconvert_exporter": "python",
   "pygments_lexer": "ipython3",
   "version": "3.9.13"
  },
  "orig_nbformat": 4,
  "vscode": {
   "interpreter": {
    "hash": "b7123bc9d5bf4081fb816108306e99e391948399f439eb667db7bc2d8c5ff993"
   }
  }
 },
 "nbformat": 4,
 "nbformat_minor": 2
}
