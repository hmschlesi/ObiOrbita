{
 "cells": [
  {
   "attachments": {},
   "cell_type": "markdown",
   "metadata": {},
   "source": [
    "# OBI Orbita Video Tutorial \n",
    "\n",
    "Here you can find the video of a step by step tutorial for building your own OBI Orbita:\n",
    "\n",
    "![](ObiOrbita.mp4)",
    "\n",
    "For exact measurements the [manual](https://github.com/hmschlesi/ObiOrbita/blob/CocoJimbo_manual/Manual_JpBook/OBI/OBI_manual.ipynb) is to be consulted.\n",
    "\n"
   ]
  }
 ],
 "metadata": {
  "kernelspec": {
   "display_name": "Python 3",
   "language": "python",
   "name": "python3"
  },
  "language_info": {
   "name": "python",
   "version": "3.9.13"
  },
  "orig_nbformat": 4,
  "vscode": {
   "interpreter": {
    "hash": "b7123bc9d5bf4081fb816108306e99e391948399f439eb667db7bc2d8c5ff993"
   }
  }
 },
 "nbformat": 4,
 "nbformat_minor": 2
}
