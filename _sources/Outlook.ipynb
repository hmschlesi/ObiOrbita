{
 "cells": [
  {
   "attachments": {},
   "cell_type": "markdown",
   "metadata": {},
   "source": [
    "## Discussion and Outlook\n",
    "\n",
    "In developing the \"ObiOrbita\" project, we've navigated a series of challenges and opportunities. Our goal was to construct a cost-effective, user-friendly music interface and we've made significant strides in achieving that. As we went along, feedback and revisions were essential parts of this project and we went along by using platforms like GitHub.\n",
    "\n",
    "We have encountered a few limitations in this journey. High tolerance levels in our parts led to some assembly challenges, impacting the look and feel of the final product. Although affordability is at the heart of our project, it's important to acknowledge that the current design might not meet the demands of professional settings. The dual tasks of keeping our manuals up-to-date and ensuring material availability for ObiOrbita construction have been ongoing challenges.\n",
    "\n",
    "In reflecting on these limitations, we understand the scope for enhancements in our framework. Design adaptations for a higher budget bracket and addressing the availability of spare parts are potential areas of improvement. However, these improvements could impact cost-effectiveness, thereby posing a challenge to our core mission of affordability.\n",
    "\n",
    "Looking back, our project served as a blueprint for open, affordable, and user-friendly musical interfaces that satisfy standards of quality and openness. We believe that our efforts could spark creativity and inclusivity within the DIY communities and the wider public. \n",
    "\n"
    ]
  },
  {
   "cell_type": "markdown",
   "metadata": {},
   "source": []
  }
 ],
 "metadata": {
  "kernelspec": {
   "display_name": "Python 3",
   "language": "python",
   "name": "python3"
  },
  "language_info": {
   "codemirror_mode": {
    "name": "ipython",
    "version": 3
   },
   "file_extension": ".py",
   "mimetype": "text/x-python",
   "name": "python",
   "nbconvert_exporter": "python",
   "pygments_lexer": "ipython3",
   "version": "3.9.13"
  },
  "vscode": {
   "interpreter": {
    "hash": "b7123bc9d5bf4081fb816108306e99e391948399f439eb667db7bc2d8c5ff993"
   }
  },
  "widgets": {
   "application/vnd.jupyter.widget-state+json": {
    "state": {},
    "version_major": 2,
    "version_minor": 0
   }
  }
 },
 "nbformat": 4,
 "nbformat_minor": 4
}
