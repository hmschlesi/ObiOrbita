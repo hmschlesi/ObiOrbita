{
 "cells": [
  {
   "attachments": {},
   "cell_type": "markdown",
   "metadata": {},
   "source": [
    "# Conclusion\n",
    "\n",
    "The implementation of the Orbita as Open Source Hardware was successful. Through a dedicated and collaborative effort, our project team successfully transformed the original MIDI sequencer into a rebuildable model, making it accessible to a wider audience of music enthusiasts, DIY hobbyists, and educators. We found a solution of a simple, low-priced & rebuildable model and have completed the required documentation for this.\n",
    "\n",
    "## Economic, Social and Environmental Outcomes\n",
    "\n",
    "After implementing our proposed approach for the Open Source ObiOrbita, we expect the outcomes stated in the following.\n",
    "\n"
   ]
},
  {
   "cell_type": "markdown",
   "metadata": {},
   "source": [
    "### Economic Outcomes\n",
    "\n",
    "The \"ObiOrbita\" design using off-the-shelf hardware and affordable materials, making it a highly cost-effective option. Our project's cost-effectiveness makes Orbita more accessible to a wider range of individuals and organizations, increasing interest in musical interfaces and electronics. This approach also benefits Playtronica by opening up to new market segments. They can potentially increase their sales by offering the electronic kit for DIY assembly, appealing to cost-conscious customers and DIY enthusiasts.\n",
    "\n",
    "### Social Outcomes\n",
    "\n",
    "Our project promotes engagement within the DIY community and serves as a educational tool in workshops or schools. By showing the process of building an electronic music interface, we make learning about electronics and music fun, interactive, and more accessible. This approach encourages knowledge-sharing, creativity, and innovation among DIY enthusiasts, allowing them to share ideas, learn from each other, and continuously improve the design.\n",
    "\n",
    "### Environmental Outcomes\n",
    "\n",
    "For the environmental aspect of the project, we focus on responsible material use. Our design approach makes use of readily available materials and aims to minimize waste production. Moreover, by promoting the use of recycled wood and other reused materials, we are encouraging a culture of recycling and repurposing that helps reduce environmental footprint.\n",
    "\n",
    "Additionally, creating a DIY Orbita means fewer pre-assembled units need to be shipped, reducing transportation-related environmental impacts. Lastly, the long-term sustainability of electronic products is improved when end-users can maintain and repair their own devices, as we encourage with our open-source approach.\n"
   ]
  }
 ],
 "metadata": {
  "kernelspec": {
   "display_name": "Python 3",
   "language": "python",
   "name": "python3"
  },
  "language_info": {
   "codemirror_mode": {
    "name": "ipython",
    "version": 3
   },
   "file_extension": ".py",
   "mimetype": "text/x-python",
   "name": "python",
   "nbconvert_exporter": "python",
   "pygments_lexer": "ipython3",
   "version": "3.9.13"
  },
  "vscode": {
   "interpreter": {
    "hash": "b7123bc9d5bf4081fb816108306e99e391948399f439eb667db7bc2d8c5ff993"
   }
  },
  "widgets": {
   "application/vnd.jupyter.widget-state+json": {
    "state": {},
    "version_major": 2,
    "version_minor": 0
   }
  }
 },
 "nbformat": 4,
 "nbformat_minor": 4
}
