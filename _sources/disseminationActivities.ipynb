{
 "cells": [
  {
   "attachments": {},
   "cell_type": "markdown",
   "metadata": {},
   "source": [
    "# Dissemination Activities\n",
    "\n",
    "The planned dissemination activities for the Open Source Hardware project of the ObiOrbita includes a multifaceted approach to maximize outreach and engagement:\n",
    "\n",
    "**1. Publishing on GitHub:** The core of the dissemination strategy lies in publishing the project on GitHub as an open-source repository. This will serve as the central platform for sharing the design, schematics, and assembly instructions of the rebuildable Orbita. By making it freely accessible, users worldwide can recreate the device, fostering a collaborative community of music enthusiasts and creators.\n",
    "\n",
    "**2. Participation in Fairs:** To showcase the Orbita's potential and engage with the public, the project team plans to participate in events like the Selbstgebaute Musik Festival in Berlin on the 3rd of September 2023. These fairs offer an excellent opportunity to present the Orbita to a diverse audience, encouraging hands-on interaction and feedback.\n",
    "\n",
    "**3. Social Media Activities:** Post content about the DIY project on Instagram and TikTok for more visibility. Short videos showcasing the building process, creative musical compositions, and user experiences will captivate audiences and encourage them to get involved.\n",
    "\n",
    "**4. Promotion on Playtronica Website:** The Playtronica website will feature the option to build an own Orbita on their website. It can be presented as an alternative option to buying the Orbita directly from Playtronica. Also, the reference to buying the electronic kit from them as a starting package of the ObiOrbita should be displayed here. This integration of the DIY offer will provide visitors with easy access to the project and encourage them to participate.\n",
    "\n",
    "**5. Collaborations with schools:** To promote educational use and gather valuable feedback, a collaboration with schools and music educators can be thought of. Through workshops and interactive sessions, teachers and students will have the opportunity to experiment and learn with the Orbita.\n",
    "\n",
    "\n"
    ]
  },
  {
   "cell_type": "markdown",
   "metadata": {},
   "source": []
  }
 ],
 "metadata": {
  "kernelspec": {
   "display_name": "Python 3",
   "language": "python",
   "name": "python3"
  },
  "language_info": {
   "codemirror_mode": {
    "name": "ipython",
    "version": 3
   },
   "file_extension": ".py",
   "mimetype": "text/x-python",
   "name": "python",
   "nbconvert_exporter": "python",
   "pygments_lexer": "ipython3",
   "version": "3.9.13"
  },
  "vscode": {
   "interpreter": {
    "hash": "b7123bc9d5bf4081fb816108306e99e391948399f439eb667db7bc2d8c5ff993"
   }
  },
  "widgets": {
   "application/vnd.jupyter.widget-state+json": {
    "state": {},
    "version_major": 2,
    "version_minor": 0
   }
  }
 },
 "nbformat": 4,
 "nbformat_minor": 4
}
