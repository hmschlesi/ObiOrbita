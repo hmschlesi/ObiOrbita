{
 "cells": [
  {
   "attachments": {},
   "cell_type": "markdown",
   "metadata": {},
   "source": [
    "# Initial Design Approaches\n",
    "\n",
    "During the brainstorming phase, two possible and realizable design approaches have been developed: First, the ObiOrbita and second, the OrbiTime. The criteria that were included for finding a solution are: It must consist of components that everyone has at home or that are easy to obtain (e.g. from a local hardware store). Additionally, it must be cost-effective, so this is not a hurdle. Moreover, the device must be easy to rebuild, so that no special tools and no special craftsmanship or technical knowledge are required. \n",
    "\n",
    "## ObiOrbita\n",
    "\n",
    "![](ObiOrbita.jpg)\n",
    "\n",
    "ObiOrbita is based on simplicity and a low budget. Besides the electric kit from Playtronica, the heart of this design is a rotating plate from Ikea called *Snudda*. All other components, mainly made of wood and complementary materials, can be easily purchased at the hardware store. The design itself follows the original design of Playtronica. In some places the design is slightly modified for a more robust surface and a few simplifications are made. One drawback with this variant is that it takes a lot of steps to build, which may make it seem complex. However, no special knowledge or tools are needed. We used off the shelf hardware where possible, other than that the parts are easy to manufacture with home tools like power drill or boxcutter.\n",
    "\n",
    "## OrbiTime\n",
    "\n",
    "![](OrbiTime.png)\n",
    "\n",
    "OrbiTime presents an upside-down approach of the original Orbita. Basically, it is a more creative solution approach repurposing the parts from Playtronica for a new design. In this version, the base is a clock-like design with the sensors rotate around a deck like clock hands. Using a clock as a basic building block is definitely a consideration, but it must be robust enough for such use. Here, the color magnets sit still on the deck while the sensors move to read them. As an extension, the clock hands could have different speeds to vary melodies or rythms. This design approach represents more of a custom design than the ObiOrbita and could create more interesting results. Moreover, the parts for this approach are cheap and easy to obtain. Nonetheless, there are some unknowns with this design approach that complicate its implementation and need to be investigated further. These include the fact that in this example, the electronics move and would need to be ensured that there are no difficulties with this. Also, it must be considered that the watch used is robust enough to support the motor and sensors on the clock hands.\n",
    "\n",
    "## Selection\n",
    "\n",
    "Due to its easier implementability and fewer unknowns to consider, the ObiOrbita design approach was chosen. In the following sections, the strategy, the results and the implementation of a first Open Source Hardware version of the ObiOrbita is described.\n",
    "\n",
    "\n"
   ]
  },
  {
   "cell_type": "markdown",
   "metadata": {},
   "source": []
  }
 ],
 "metadata": {
  "kernelspec": {
   "display_name": "Python 3",
   "language": "python",
   "name": "python3"
  },
  "language_info": {
   "codemirror_mode": {
    "name": "ipython",
    "version": 3
   },
   "file_extension": ".py",
   "mimetype": "text/x-python",
   "name": "python",
   "nbconvert_exporter": "python",
   "pygments_lexer": "ipython3",
   "version": "3.9.13"
  },
  "vscode": {
   "interpreter": {
    "hash": "b7123bc9d5bf4081fb816108306e99e391948399f439eb667db7bc2d8c5ff993"
   }
  },
  "widgets": {
   "application/vnd.jupyter.widget-state+json": {
    "state": {},
    "version_major": 2,
    "version_minor": 0
   }
  }
 },
 "nbformat": 4,
 "nbformat_minor": 4
}
