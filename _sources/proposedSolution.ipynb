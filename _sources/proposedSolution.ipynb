{
 "cells": [
  {
   "attachments": {},
   "cell_type": "markdown",
   "metadata": {},
   "source": [
    "# Proposed Solution \n",
    "\n",
    "The proposed solution approach is to create a simple rebuildable model of the Orbita using readily-available components and release it as Open Source Hardware. This will involve carefully documenting the design and assembly process, ensuring that the instructions are clear and accessible to a wide audience. By doing so, we aim to empower individuals with the ability to construct their own versions of the Orbita, fostering a community of creators who can share their ideas and improvements.\n",
    "\n",
    "To facilitate the ease of rebuilding, we will select widely available and cost-effective components, making sure that they are easily obtainable from various suppliers. Additionally, we will employ modular design principles, enabling users to customize and expand the functionality of their Orbita according to their preferences.\n",
    "\n",
    "The Open Source Hardware release will be accompanied by comprehensive documentation, including manuals for the assembly with schematics and for the DAW usage. Furthermore the documentation includes a CAD model, a tutorial video and a bill of materials. This will enable users to understand the inner workings of the device and troubleshoot any potential issues they may encounter during the construction process. To promote collaboration and knowledge-sharing, a GitHub repository is established. Here, users can exchange ideas, share their experiences, and contribute to the collective pool of knowledge, fostering a vibrant ecosystem of Orbita enthusiasts and developers.\n",
    "\n",
    "## Fields of Application\n",
    "\n",
    "The fields of application of our OSHW project are:\n",
    "\n",
    "**For teaching & educational purposes**, the accessible and playful nature of the rebuildable Orbita model provides an excellent tool for introducing students to music technology and interactive electronics. By incorporating the Orbita into educational settings, learners can explore the fundamentals of music composition and create their own sound sequences intuitively. The setting in which children playfully discover this kind of musical creation with their parents is also conceivable.\n",
    "\n",
    "**As building blocks for personal / hobby projects as well as professional projects**, the flexibility of the Orbita's open design allows individuals to integrate it seamlessly into their own creative endeavors. Whether it's for personal exploration or professional music production, the rebuildable Orbita enables users to experiment and innovate with their musical expressions.\n",
    "\n",
    "**To learn about the hardware and a new way of making music**, DIY enthusiasts may find the rebuildable Orbita model to be an exciting and educational endeavor. The unconventional approach of using colored magnets and sensors for music composition opens up a realm of creative possibilities serve as inspiration to explore music making with a selfmade innovative instrument on a low budget.\n",
    "\n",
    "\n"
   ]
  },
  {
   "cell_type": "markdown",
   "metadata": {},
   "source": []
  }
 ],
 "metadata": {
  "kernelspec": {
   "display_name": "Python 3",
   "language": "python",
   "name": "python3"
  },
  "language_info": {
   "codemirror_mode": {
    "name": "ipython",
    "version": 3
   },
   "file_extension": ".py",
   "mimetype": "text/x-python",
   "name": "python",
   "nbconvert_exporter": "python",
   "pygments_lexer": "ipython3",
   "version": "3.9.13"
  },
  "vscode": {
   "interpreter": {
    "hash": "b7123bc9d5bf4081fb816108306e99e391948399f439eb667db7bc2d8c5ff993"
   }
  },
  "widgets": {
   "application/vnd.jupyter.widget-state+json": {
    "state": {},
    "version_major": 2,
    "version_minor": 0
   }
  }
 },
 "nbformat": 4,
 "nbformat_minor": 4
}
